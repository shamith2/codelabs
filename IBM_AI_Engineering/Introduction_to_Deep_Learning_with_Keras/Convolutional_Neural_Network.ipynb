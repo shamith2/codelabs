{
 "cells": [
  {
   "cell_type": "code",
   "execution_count": 2,
   "metadata": {},
   "outputs": [
    {
     "name": "stderr",
     "output_type": "stream",
     "text": [
      "Using TensorFlow backend.\n"
     ]
    }
   ],
   "source": [
    "# From Introduction to Deep Learning using Keras by Alex Aklson\n",
    "# import required modules\n",
    "import keras\n",
    "from keras.models import Sequential\n",
    "from keras.layers import Dense\n",
    "from keras.utils import to_categorical\n",
    "\n",
    "from keras.layers.convolutional import Conv2D # to add convolutional layers\n",
    "from keras.layers.convolutional import MaxPooling2D # to add pooling layers\n",
    "from keras.layers import Flatten # to flatten data for fully connected layers\n",
    "\n",
    "# import data\n",
    "from keras.datasets import mnist"
   ]
  },
  {
   "cell_type": "code",
   "execution_count": 6,
   "metadata": {},
   "outputs": [
    {
     "name": "stdout",
     "output_type": "stream",
     "text": [
      "(60000, 28, 28) (60000, 28, 28, 1)\n"
     ]
    }
   ],
   "source": [
    "# load data\n",
    "(x_train, y_train), (x_test, y_test) = mnist.load_data()\n",
    "\n",
    "# reshape to be [samples][pixels][width][height]\n",
    "X_train = x_train.reshape(x_train.shape[0], 28, 28, 1).astype('float32') / 255.\n",
    "X_test = x_test.reshape(x_test.shape[0], 28, 28, 1).astype('float32') / 255.\n",
    "\n",
    "print(x_train.shape, X_train.shape)"
   ]
  },
  {
   "cell_type": "code",
   "execution_count": 8,
   "metadata": {},
   "outputs": [
    {
     "name": "stdout",
     "output_type": "stream",
     "text": [
      "10\n"
     ]
    }
   ],
   "source": [
    "# convert y_train and y_test using to_categorical\n",
    "Y_train = to_categorical(y_train)\n",
    "Y_test = to_categorical(y_test)\n",
    "\n",
    " # number of classes\n",
    "num_classes = Y_test.shape[1]\n",
    "print(num_classes)"
   ]
  },
  {
   "cell_type": "code",
   "execution_count": 9,
   "metadata": {},
   "outputs": [],
   "source": [
    "def convolutional_model():\n",
    "    \n",
    "    # create model\n",
    "    model = Sequential()\n",
    "    model.add(Conv2D(16, (5, 5), strides=(1, 1), activation='relu', input_shape=(28, 28, 1)))\n",
    "    model.add(MaxPooling2D(pool_size=(2, 2), strides=(2, 2)))\n",
    "    \n",
    "    model.add(Flatten())\n",
    "    model.add(Dense(100, activation='relu'))\n",
    "    model.add(Dense(num_classes, activation='softmax'))\n",
    "    \n",
    "    # compile model\n",
    "    model.compile(optimizer='adam', loss='categorical_crossentropy',  metrics=['accuracy'])\n",
    "    return model"
   ]
  },
  {
   "cell_type": "code",
   "execution_count": 11,
   "metadata": {},
   "outputs": [
    {
     "name": "stdout",
     "output_type": "stream",
     "text": [
      "Train on 60000 samples, validate on 10000 samples\n",
      "Epoch 1/10\n",
      "60000/60000 [==============================] - 9s 148us/step - loss: 0.3038 - accuracy: 0.9130 - val_loss: 0.1210 - val_accuracy: 0.9642\n",
      "Epoch 2/10\n",
      "60000/60000 [==============================] - 8s 140us/step - loss: 0.0961 - accuracy: 0.9724 - val_loss: 0.0675 - val_accuracy: 0.9789\n",
      "Epoch 3/10\n",
      "60000/60000 [==============================] - 9s 145us/step - loss: 0.0661 - accuracy: 0.9802 - val_loss: 0.0557 - val_accuracy: 0.9809\n",
      "Epoch 4/10\n",
      "60000/60000 [==============================] - 9s 155us/step - loss: 0.0489 - accuracy: 0.9850 - val_loss: 0.0510 - val_accuracy: 0.9833\n",
      "Epoch 5/10\n",
      "60000/60000 [==============================] - 9s 151us/step - loss: 0.0403 - accuracy: 0.9876 - val_loss: 0.0417 - val_accuracy: 0.9868\n",
      "Epoch 6/10\n",
      "60000/60000 [==============================] - 9s 152us/step - loss: 0.0340 - accuracy: 0.9897 - val_loss: 0.0391 - val_accuracy: 0.9862\n",
      "Epoch 7/10\n",
      "60000/60000 [==============================] - 9s 152us/step - loss: 0.0290 - accuracy: 0.9908 - val_loss: 0.0404 - val_accuracy: 0.9859\n",
      "Epoch 8/10\n",
      "60000/60000 [==============================] - 9s 158us/step - loss: 0.0239 - accuracy: 0.9925 - val_loss: 0.0406 - val_accuracy: 0.9863\n",
      "Epoch 9/10\n",
      "60000/60000 [==============================] - 9s 154us/step - loss: 0.0205 - accuracy: 0.9937 - val_loss: 0.0407 - val_accuracy: 0.9876\n",
      "Epoch 10/10\n",
      "60000/60000 [==============================] - 9s 153us/step - loss: 0.0172 - accuracy: 0.9948 - val_loss: 0.0358 - val_accuracy: 0.9876\n",
      "10000/10000 [==============================] - 0s 48us/step\n"
     ]
    }
   ],
   "source": [
    "# build the model\n",
    "model = convolutional_model()\n",
    "\n",
    "# fit the model\n",
    "model.fit(X_train, Y_train, validation_data=(X_test, Y_test), epochs=10, batch_size=200)\n",
    "\n",
    "# evaluate the model\n",
    "scores = model.evaluate(X_test, Y_test)"
   ]
  },
  {
   "cell_type": "code",
   "execution_count": 12,
   "metadata": {},
   "outputs": [],
   "source": [
    "# convolutional model with two Convolutional Layers and two Pooling Layers\n",
    "def convolutional_model_two_layers():\n",
    "    # create model\n",
    "    model = Sequential()\n",
    "    model.add(Conv2D(16, (5, 5), activation='relu', input_shape=(28, 28, 1)))\n",
    "    model.add(MaxPooling2D(pool_size=(2, 2), strides=(2, 2)))\n",
    "    \n",
    "    model.add(Conv2D(8, (2, 2), activation='relu'))\n",
    "    model.add(MaxPooling2D(pool_size=(2, 2), strides=(2, 2)))\n",
    "    \n",
    "    model.add(Flatten())\n",
    "    model.add(Dense(100, activation='relu'))\n",
    "    model.add(Dense(num_classes, activation='softmax'))\n",
    "    \n",
    "    # Compile model\n",
    "    model.compile(optimizer='adam', loss='categorical_crossentropy',  metrics=['accuracy'])\n",
    "    return model"
   ]
  },
  {
   "cell_type": "code",
   "execution_count": 13,
   "metadata": {},
   "outputs": [
    {
     "name": "stdout",
     "output_type": "stream",
     "text": [
      "Train on 60000 samples, validate on 10000 samples\n",
      "Epoch 1/10\n",
      "60000/60000 [==============================] - 8s 137us/step - loss: 0.4572 - accuracy: 0.8681 - val_loss: 0.1348 - val_accuracy: 0.9612\n",
      "Epoch 2/10\n",
      "60000/60000 [==============================] - 8s 129us/step - loss: 0.1162 - accuracy: 0.9656 - val_loss: 0.0793 - val_accuracy: 0.9763\n",
      "Epoch 3/10\n",
      "60000/60000 [==============================] - 8s 141us/step - loss: 0.0832 - accuracy: 0.9748 - val_loss: 0.0617 - val_accuracy: 0.9811\n",
      "Epoch 4/10\n",
      "60000/60000 [==============================] - 9s 142us/step - loss: 0.0673 - accuracy: 0.9803 - val_loss: 0.0569 - val_accuracy: 0.9820\n",
      "Epoch 5/10\n",
      "60000/60000 [==============================] - 8s 136us/step - loss: 0.0573 - accuracy: 0.9827 - val_loss: 0.0529 - val_accuracy: 0.9831\n",
      "Epoch 6/10\n",
      "60000/60000 [==============================] - 8s 135us/step - loss: 0.0509 - accuracy: 0.9842 - val_loss: 0.0455 - val_accuracy: 0.9852\n",
      "Epoch 7/10\n",
      "60000/60000 [==============================] - 9s 146us/step - loss: 0.0444 - accuracy: 0.9864 - val_loss: 0.0411 - val_accuracy: 0.9877\n",
      "Epoch 8/10\n",
      "60000/60000 [==============================] - 9s 144us/step - loss: 0.0414 - accuracy: 0.9874 - val_loss: 0.0424 - val_accuracy: 0.9868\n",
      "Epoch 9/10\n",
      "60000/60000 [==============================] - 9s 142us/step - loss: 0.0381 - accuracy: 0.9884 - val_loss: 0.0360 - val_accuracy: 0.9880\n",
      "Epoch 10/10\n",
      "60000/60000 [==============================] - 9s 151us/step - loss: 0.0340 - accuracy: 0.9895 - val_loss: 0.0363 - val_accuracy: 0.9877\n",
      "10000/10000 [==============================] - 1s 52us/step\n"
     ]
    }
   ],
   "source": [
    "# build the model\n",
    "model = convolutional_model_two_layers()\n",
    "\n",
    "# fit the model\n",
    "model.fit(X_train, Y_train, validation_data=(X_test, Y_test), epochs=10, batch_size=200)\n",
    "\n",
    "# evaluate the model\n",
    "scores = model.evaluate(X_test, Y_test)"
   ]
  }
 ],
 "metadata": {
  "kernelspec": {
   "display_name": "Python 3",
   "language": "python",
   "name": "python3"
  },
  "language_info": {
   "codemirror_mode": {
    "name": "ipython",
    "version": 3
   },
   "file_extension": ".py",
   "mimetype": "text/x-python",
   "name": "python",
   "nbconvert_exporter": "python",
   "pygments_lexer": "ipython3",
   "version": "3.7.5"
  }
 },
 "nbformat": 4,
 "nbformat_minor": 4
}
