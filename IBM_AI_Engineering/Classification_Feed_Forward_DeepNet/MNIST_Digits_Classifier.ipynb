{
 "cells": [
  {
   "cell_type": "code",
   "execution_count": 7,
   "metadata": {},
   "outputs": [],
   "source": [
    "# import required modules\n",
    "import keras\n",
    "from keras.models import Sequential\n",
    "from keras.layers import Dense\n",
    "from keras.utils import to_categorical\n",
    "from keras.datasets import mnist\n",
    "from keras.models import load_model\n",
    "\n",
    "import matplotlib.pyplot as plt"
   ]
  },
  {
   "cell_type": "code",
   "execution_count": 8,
   "metadata": {},
   "outputs": [
    {
     "name": "stdout",
     "output_type": "stream",
     "text": [
      "(60000, 784)\n",
      "(10000, 784)\n"
     ]
    }
   ],
   "source": [
    "# download the data and divide into train and test sets\n",
    "(x_train, y_train), (x_test, y_test) = mnist.load_data()\n",
    "\n",
    "# flatten images\n",
    "X_train = x_train.reshape(x_train.shape[0], -1) / 255.      # reshape training images to (60000, 28*28)\n",
    "X_test = x_test.reshape(x_test.shape[0], -1) / 255.         # reshape test images to (60000, 28*28)    \n",
    "\n",
    "print(X_train.shape)\n",
    "print(X_test.shape)"
   ]
  },
  {
   "cell_type": "code",
   "execution_count": 9,
   "metadata": {},
   "outputs": [
    {
     "name": "stdout",
     "output_type": "stream",
     "text": [
      "10\n"
     ]
    }
   ],
   "source": [
    "# convert y_train and y_test using to_categorical\n",
    "Y_train = to_categorical(y_train)\n",
    "Y_test = to_categorical(y_test)\n",
    "\n",
    "# number of classes\n",
    "num_classes = Y_test.shape[1]\n",
    "print(num_classes)"
   ]
  },
  {
   "cell_type": "code",
   "execution_count": 10,
   "metadata": {},
   "outputs": [],
   "source": [
    "# define classification model\n",
    "def classification_model():\n",
    "    # create model\n",
    "    input_features = X_train.shape[1]\n",
    "    model = Sequential()\n",
    "    model.add(Dense(input_features, activation='relu', input_shape=(input_features,)))\n",
    "    model.add(Dense(100, activation='relu'))\n",
    "    model.add(Dense(num_classes, activation='softmax'))\n",
    "    \n",
    "    # compile model\n",
    "    model.compile(optimizer='adam', loss='categorical_crossentropy', metrics=['accuracy'])\n",
    "    return model"
   ]
  },
  {
   "cell_type": "code",
   "execution_count": 11,
   "metadata": {},
   "outputs": [
    {
     "name": "stdout",
     "output_type": "stream",
     "text": [
      "Train on 60000 samples, validate on 10000 samples\n",
      "Epoch 1/10\n",
      "60000/60000 [==============================] - 20s 332us/step - loss: 0.1822 - accuracy: 0.9431 - val_loss: 0.0954 - val_accuracy: 0.9695\n",
      "Epoch 2/10\n",
      "60000/60000 [==============================] - 16s 260us/step - loss: 0.0799 - accuracy: 0.9754 - val_loss: 0.0840 - val_accuracy: 0.9730\n",
      "Epoch 3/10\n",
      "60000/60000 [==============================] - 15s 253us/step - loss: 0.0525 - accuracy: 0.9830 - val_loss: 0.0734 - val_accuracy: 0.9764\n",
      "Epoch 4/10\n",
      "60000/60000 [==============================] - 15s 256us/step - loss: 0.0408 - accuracy: 0.9871 - val_loss: 0.0687 - val_accuracy: 0.9797\n",
      "Epoch 5/10\n",
      "60000/60000 [==============================] - 15s 254us/step - loss: 0.0312 - accuracy: 0.9901 - val_loss: 0.0686 - val_accuracy: 0.9819\n",
      "Epoch 6/10\n",
      "60000/60000 [==============================] - 15s 256us/step - loss: 0.0256 - accuracy: 0.9918 - val_loss: 0.0812 - val_accuracy: 0.9781\n",
      "Epoch 7/10\n",
      "60000/60000 [==============================] - 15s 255us/step - loss: 0.0226 - accuracy: 0.9928 - val_loss: 0.1106 - val_accuracy: 0.9765\n",
      "Epoch 8/10\n",
      "60000/60000 [==============================] - 15s 255us/step - loss: 0.0204 - accuracy: 0.9934 - val_loss: 0.0708 - val_accuracy: 0.9820\n",
      "Epoch 9/10\n",
      "60000/60000 [==============================] - 16s 271us/step - loss: 0.0165 - accuracy: 0.9948 - val_loss: 0.1102 - val_accuracy: 0.9750\n",
      "Epoch 10/10\n",
      "60000/60000 [==============================] - 17s 288us/step - loss: 0.0155 - accuracy: 0.9948 - val_loss: 0.1318 - val_accuracy: 0.9767\n",
      "10000/10000 [==============================] - 0s 45us/step\n"
     ]
    }
   ],
   "source": [
    "# build the model\n",
    "model = classification_model()\n",
    "\n",
    "# fit the model\n",
    "model.fit(X_train, Y_train, validation_data=(X_test, Y_test), epochs=10)\n",
    "\n",
    "# evaluate the model\n",
    "scores = model.evaluate(X_test, Y_test)"
   ]
  },
  {
   "cell_type": "code",
   "execution_count": 12,
   "metadata": {},
   "outputs": [],
   "source": [
    "# save model\n",
    "model.save('classification_model.h5')\n",
    "\n",
    "# load model for reusing\n",
    "pretrained_model = load_model('classification_model.h5')"
   ]
  }
 ],
 "metadata": {
  "kernelspec": {
   "display_name": "Python 3",
   "language": "python",
   "name": "python3"
  },
  "language_info": {
   "codemirror_mode": {
    "name": "ipython",
    "version": 3
   },
   "file_extension": ".py",
   "mimetype": "text/x-python",
   "name": "python",
   "nbconvert_exporter": "python",
   "pygments_lexer": "ipython3",
   "version": "3.7.5"
  }
 },
 "nbformat": 4,
 "nbformat_minor": 4
}
