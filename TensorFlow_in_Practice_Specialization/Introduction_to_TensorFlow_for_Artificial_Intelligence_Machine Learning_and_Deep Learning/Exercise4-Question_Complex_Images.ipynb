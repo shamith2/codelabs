{
 "cells": [
  {
   "cell_type": "markdown",
   "metadata": {
    "colab_type": "text",
    "id": "UncprnB0ymAE"
   },
   "source": [
    "Below is code with a link to a happy or sad dataset which contains 80 images, 40 happy and 40 sad. \n",
    "Create a convolutional neural network that trains to 100% accuracy on these images,  which cancels training upon hitting training accuracy of >.999\n",
    "\n",
    "Hint -- it will work best with 3 convolutional layers."
   ]
  },
  {
   "cell_type": "code",
   "execution_count": 1,
   "metadata": {},
   "outputs": [],
   "source": [
    "import tensorflow as tf\n",
    "import os\n",
    "import zipfile\n",
    "from os import path, getcwd, chdir\n",
    "\n",
    "# DO NOT CHANGE THE LINE BELOW. If you are developing in a local\n",
    "# environment, then grab happy-or-sad.zip from the Coursera Jupyter Notebook\n",
    "# and place it inside a local folder and edit the path to that location\n",
    "path = f\"{getcwd()}/../tmp2/happy-or-sad.zip\"\n",
    "\n",
    "zip_ref = zipfile.ZipFile(path, 'r')\n",
    "zip_ref.extractall(\"/tmp/h-or-s\")\n",
    "zip_ref.close()"
   ]
  },
  {
   "cell_type": "code",
   "execution_count": 12,
   "metadata": {},
   "outputs": [],
   "source": [
    "# GRADED FUNCTION: train_happy_sad_model\n",
    "def train_happy_sad_model():\n",
    "    # Please write your code only where you are indicated.\n",
    "    # please do not remove # model fitting inline comments.\n",
    "\n",
    "    DESIRED_ACCURACY = 0.999\n",
    "\n",
    "    class myCallback(tf.keras.callbacks.Callback):\n",
    "         def on_epoch_end(self, epochs, logs={}):\n",
    "            if logs.get('acc') > DESIRED_ACCURACY:\n",
    "              print(\"\\n Reached 99.9% accuracy so cancelling training!\")\n",
    "              self.model.stop_training = True\n",
    "\n",
    "    callbacks = myCallback()\n",
    "    \n",
    "    # This Code Block should Define and Compile the Model. Please assume the images are 150 X 150 in your implementation.\n",
    "    model = tf.keras.models.Sequential([\n",
    "        # Your Code Here\n",
    "        # This is the first convolution\n",
    "        tf.keras.layers.Conv2D(16, (3,3), activation='relu', input_shape=(150, 150, 3)),\n",
    "        tf.keras.layers.MaxPooling2D(2, 2),\n",
    "        # The second convolution\n",
    "        tf.keras.layers.Conv2D(32, (3,3), activation='relu'),\n",
    "        tf.keras.layers.MaxPooling2D(2,2),\n",
    "        # The third convolution\n",
    "        tf.keras.layers.Conv2D(64, (3,3), activation='relu'),\n",
    "        tf.keras.layers.MaxPooling2D(2,2),\n",
    "\n",
    "        # Flatten the results to feed into a DNN\n",
    "        tf.keras.layers.Flatten(),\n",
    "        # 512 neuron hidden layer\n",
    "        tf.keras.layers.Dense(512, activation='relu'),\n",
    "        # Only 1 output neuron. It will contain a value from 0-1 where 0 for 1 class ('horses') and 1 for the other ('humans')\n",
    "        tf.keras.layers.Dense(1, activation='sigmoid')\n",
    "    ])\n",
    "\n",
    "    from tensorflow.keras.optimizers import RMSprop\n",
    "\n",
    "    model.compile(optimizer='adam', loss='binary_crossentropy', metrics=['accuracy'])\n",
    "        \n",
    "\n",
    "    # This code block should create an instance of an ImageDataGenerator called train_datagen \n",
    "    # And a train_generator by calling train_datagen.flow_from_directory\n",
    "\n",
    "    from tensorflow.keras.preprocessing.image import ImageDataGenerator\n",
    "\n",
    "    train_datagen = ImageDataGenerator(rescale=1./255)\n",
    "\n",
    "    # Please use a target_size of 150 X 150.\n",
    "    train_generator = train_datagen.flow_from_directory(\n",
    "        # Your Code Here\n",
    "        '/tmp/h-or-s',  # This is the source directory for training images\n",
    "        target_size=(150, 150),  # All images will be resized to 300x300\n",
    "        batch_size=64,\n",
    "        # Since we use binary_crossentropy loss, we need binary labels\n",
    "        class_mode='binary')\n",
    "    # Expected output: 'Found 80 images belonging to 2 classes'\n",
    "\n",
    "    # This code block should call model.fit_generator and train for\n",
    "    # a number of epochs.\n",
    "    # model fitting\n",
    "    history = model.fit_generator(\n",
    "          # Your Code Here\n",
    "          train_generator, steps_per_epoch=2, epochs=30, callbacks=[callbacks])\n",
    "    # model fitting\n",
    "    return history.history['acc'][-1]"
   ]
  },
  {
   "cell_type": "code",
   "execution_count": 13,
   "metadata": {},
   "outputs": [
    {
     "name": "stdout",
     "output_type": "stream",
     "text": [
      "Found 80 images belonging to 2 classes.\n",
      "Epoch 1/30\n",
      "2/2 [==============================] - 2s 1s/step - loss: 2.1343 - acc: 0.3750\n",
      "Epoch 2/30\n",
      "2/2 [==============================] - 0s 193ms/step - loss: 0.7470 - acc: 0.5250\n",
      "Epoch 3/30\n",
      "2/2 [==============================] - 0s 200ms/step - loss: 0.8796 - acc: 0.5000\n",
      "Epoch 4/30\n",
      "2/2 [==============================] - 0s 195ms/step - loss: 0.7067 - acc: 0.5000\n",
      "Epoch 5/30\n",
      "2/2 [==============================] - 0s 199ms/step - loss: 0.6711 - acc: 0.7375\n",
      "Epoch 6/30\n",
      "2/2 [==============================] - 0s 157ms/step - loss: 0.6361 - acc: 0.8625\n",
      "Epoch 7/30\n",
      "2/2 [==============================] - 0s 198ms/step - loss: 0.6260 - acc: 0.5000\n",
      "Epoch 8/30\n",
      "2/2 [==============================] - 0s 241ms/step - loss: 0.5708 - acc: 0.8875\n",
      "Epoch 9/30\n",
      "2/2 [==============================] - 0s 199ms/step - loss: 0.5074 - acc: 0.9000\n",
      "Epoch 10/30\n",
      "2/2 [==============================] - 0s 198ms/step - loss: 0.4385 - acc: 0.9125\n",
      "Epoch 11/30\n",
      "2/2 [==============================] - 0s 157ms/step - loss: 0.3647 - acc: 0.9000\n",
      "Epoch 12/30\n",
      "2/2 [==============================] - 0s 154ms/step - loss: 0.2619 - acc: 0.9125\n",
      "Epoch 13/30\n",
      "2/2 [==============================] - 0s 195ms/step - loss: 0.2303 - acc: 0.9625\n",
      "Epoch 14/30\n",
      "2/2 [==============================] - 0s 197ms/step - loss: 0.1438 - acc: 0.9375\n",
      "Epoch 15/30\n",
      "2/2 [==============================] - 0s 199ms/step - loss: 0.1422 - acc: 0.9375\n",
      "Epoch 16/30\n",
      "2/2 [==============================] - 0s 200ms/step - loss: 0.1233 - acc: 0.9750\n",
      "Epoch 17/30\n",
      "2/2 [==============================] - 0s 196ms/step - loss: 0.1095 - acc: 0.9875\n",
      "Epoch 18/30\n",
      "2/2 [==============================] - 0s 163ms/step - loss: 0.1420 - acc: 0.9750\n",
      "Epoch 19/30\n",
      "1/2 [==============>...............] - ETA: 0s - loss: 0.1172 - acc: 1.0000\n",
      " Reached 99.9% accuracy so cancelling training!\n",
      "2/2 [==============================] - 0s 158ms/step - loss: 0.0771 - acc: 1.0000\n"
     ]
    },
    {
     "data": {
      "text/plain": [
       "1.0"
      ]
     },
     "execution_count": 13,
     "metadata": {},
     "output_type": "execute_result"
    }
   ],
   "source": [
    "# The Expected output: \"Reached 99.9% accuracy so cancelling training!\"\"\n",
    "train_happy_sad_model()"
   ]
  },
  {
   "cell_type": "code",
   "execution_count": 14,
   "metadata": {},
   "outputs": [],
   "source": [
    "# Now click the 'Submit Assignment' button above.\n",
    "# Once that is complete, please run the following two cells to save your work and close the notebook"
   ]
  },
  {
   "cell_type": "code",
   "execution_count": null,
   "metadata": {},
   "outputs": [],
   "source": [
    "%%javascript\n",
    "<!-- Save the notebook -->\n",
    "IPython.notebook.save_checkpoint();"
   ]
  },
  {
   "cell_type": "code",
   "execution_count": null,
   "metadata": {},
   "outputs": [],
   "source": [
    "%%javascript\n",
    "IPython.notebook.session.delete();\n",
    "window.onbeforeunload = null\n",
    "setTimeout(function() { window.close(); }, 1000);"
   ]
  }
 ],
 "metadata": {
  "coursera": {
   "course_slug": "introduction-tensorflow",
   "graded_item_id": "1kAlw",
   "launcher_item_id": "PNLYD"
  },
  "kernelspec": {
   "display_name": "Python 3",
   "language": "python",
   "name": "python3"
  },
  "language_info": {
   "codemirror_mode": {
    "name": "ipython",
    "version": 3
   },
   "file_extension": ".py",
   "mimetype": "text/x-python",
   "name": "python",
   "nbconvert_exporter": "python",
   "pygments_lexer": "ipython3",
   "version": "3.6.8"
  }
 },
 "nbformat": 4,
 "nbformat_minor": 1
}
